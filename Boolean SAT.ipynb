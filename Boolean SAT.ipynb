{
 "cells": [
  {
   "cell_type": "markdown",
   "metadata": {},
   "source": [
    "### Problem Statement ###\n",
    "#### input #\n",
    "a set of clauses in CNF form, e.g. \"(3,-5,6),(-9,2,1)\" means (X3 ∨ ¬ X5 ∨ X6) ∧ (¬ X9 ∨ X2 ∨ X1)\"\n",
    "\n",
    "#### output #\n",
    "a vector of 0's and 1's of length n that satisfies the formula, or NULL if no such assignment exists, e.g. \"(1,0,1,0,0,0,0,0,0)\"\n",
    "\n",
    "### Strategies ###\n",
    "\n",
    "SAT solvers: https://en.wikipedia.org/wiki/Category:SAT_solvers\n",
    "\n",
    "1. DP (https://en.wikipedia.org/wiki/Davis–Putnam_algorithm)\n",
    "2. DPLL (https://en.wikipedia.org/wiki/DPLL_algorithm)\n",
    "3. WalkSAT (https://en.wikipedia.org/wiki/WalkSAT)\n",
    "4. CDCL (https://en.wikipedia.org/wiki/Conflict-driven_clause_learning)\n",
    "\n",
    "### Things to do ###\n",
    "1. Come up with many test inputs of the form: (3,-5,6),(-9,2,1)"
   ]
  },
  {
   "cell_type": "code",
   "execution_count": null,
   "metadata": {},
   "outputs": [],
   "source": []
  }
 ],
 "metadata": {
  "kernelspec": {
   "display_name": "Python 3",
   "language": "python",
   "name": "python3"
  },
  "language_info": {
   "codemirror_mode": {
    "name": "ipython",
    "version": 3
   },
   "file_extension": ".py",
   "mimetype": "text/x-python",
   "name": "python",
   "nbconvert_exporter": "python",
   "pygments_lexer": "ipython3",
   "version": "3.6.5"
  }
 },
 "nbformat": 4,
 "nbformat_minor": 2
}
