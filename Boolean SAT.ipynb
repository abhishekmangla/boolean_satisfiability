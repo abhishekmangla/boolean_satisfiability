{
 "cells": [
  {
   "cell_type": "markdown",
   "metadata": {},
   "source": [
    "### Problem Statement ###\n",
    "#### input #\n",
    "a set of clauses in CNF form, e.g. \"(3,-5,6),(-9,2,1)\" means (X3 ∨ ¬ X5 ∨ X6) ∧ (¬ X9 ∨ X2 ∨ X1)\"\n",
    "\n",
    "#### output #\n",
    "a vector of 0's and 1's of length n that satisfies the formula, or NULL if no such assignment exists, e.g. \"(1,0,1,0,0,0,0,0,0)\"\n",
    "\n",
    "### Strategies ###\n",
    "\n",
    "SAT solvers: https://en.wikipedia.org/wiki/Category:SAT_solvers\n",
    "\n",
    "1. DP (https://en.wikipedia.org/wiki/Davis–Putnam_algorithm)\n",
    "2. DPLL (https://en.wikipedia.org/wiki/DPLL_algorithm)\n",
    "    Another resource: (https://stackoverflow.com/questions/12547160/how-does-the-dpll-algorithm-work?fbclid=IwAR3fz-kfoBGZnttwOce25-APfCBhhPqWCjcgsMZ0SK8Y8J99Ho67OJtRc-k)\n",
    "3. WalkSAT (https://en.wikipedia.org/wiki/WalkSAT)\n",
    "4. CDCL (https://en.wikipedia.org/wiki/Conflict-driven_clause_learning)\n",
    "\n",
    "### Things to do ###\n",
    "1. Come up with many different test inputs of the form: (3,-5,6),(-9,2,1)\n",
    "    - variability in number of variables in a clause (1 - 5 variables)\n",
    "    - variability in number of clauses (1 - 100 clauses)\n",
    "    - variability in total number of variables to assign in sentence (1 - 500)\n",
    "    - 100 test cases each, save as *.txt file\n",
    "2. Write a benchmarking class so that we can compare each method against each other based on our test cases."
   ]
  },
  {
   "cell_type": "code",
   "execution_count": 24,
   "metadata": {},
   "outputs": [
    {
     "name": "stdout",
     "output_type": "stream",
     "text": [
      "Counter({5: 217, 3: 211, 2: 203, 4: 195, 1: 174})\n"
     ]
    }
   ],
   "source": [
    "from random import randint\n",
    "from collections import Counter\n",
    "\n",
    "cnt = Counter()\n",
    "for i in range(1000):\n",
    "    cnt[randint(1, 5)] += 1\n",
    "\n",
    "print(cnt)"
   ]
  },
  {
   "cell_type": "code",
   "execution_count": null,
   "metadata": {},
   "outputs": [],
   "source": [
    "def create_test():\n",
    "    num_clauses = randint(1, 100)\n",
    "    total_num_vars = num_clauses * randint(1, 5)\n",
    "    for clause in num_clauses:\n",
    "        num_vars = "
   ]
  },
  {
   "cell_type": "code",
   "execution_count": null,
   "metadata": {},
   "outputs": [],
   "source": [
    "test1 = \"(3,-5,6),(-9,2,1)\"\n",
    "test2 = \"(1,2,3),(4,5,6)\""
   ]
  },
  {
   "cell_type": "code",
   "execution_count": null,
   "metadata": {},
   "outputs": [],
   "source": [
    "def solve(expression):\n",
    "    clauses = expression.split(\",\")\n",
    "    "
   ]
  }
 ],
 "metadata": {
  "kernelspec": {
   "display_name": "Python 3",
   "language": "python",
   "name": "python3"
  },
  "language_info": {
   "codemirror_mode": {
    "name": "ipython",
    "version": 3
   },
   "file_extension": ".py",
   "mimetype": "text/x-python",
   "name": "python",
   "nbconvert_exporter": "python",
   "pygments_lexer": "ipython3",
   "version": "3.6.5"
  }
 },
 "nbformat": 4,
 "nbformat_minor": 2
}
